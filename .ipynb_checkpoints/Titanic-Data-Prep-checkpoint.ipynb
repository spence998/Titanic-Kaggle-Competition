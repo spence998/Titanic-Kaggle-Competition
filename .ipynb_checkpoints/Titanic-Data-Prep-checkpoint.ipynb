{
 "cells": [
  {
   "cell_type": "code",
   "execution_count": 1,
   "metadata": {},
   "outputs": [],
   "source": [
    "import numpy as np\n",
    "import pandas as pd\n",
    "import math\n",
    "import matplotlib.pyplot as plt\n",
    "from sklearn.linear_model import LogisticRegression\n",
    "from sklearn.ensemble import RandomForestClassifier\n",
    "from sklearn.model_selection import train_test_split\n",
    "from sklearn.metrics import roc_curve, roc_auc_score, auc\n",
    "from sklearn import metrics\n"
   ]
  },
  {
   "cell_type": "code",
   "execution_count": 2,
   "metadata": {},
   "outputs": [],
   "source": [
    "df = pd.read_csv(\"train.csv\",index_col = \"PassengerId\")"
   ]
  },
  {
   "cell_type": "code",
   "execution_count": 3,
   "metadata": {},
   "outputs": [
    {
     "data": {
      "text/html": [
       "<div>\n",
       "<style scoped>\n",
       "    .dataframe tbody tr th:only-of-type {\n",
       "        vertical-align: middle;\n",
       "    }\n",
       "\n",
       "    .dataframe tbody tr th {\n",
       "        vertical-align: top;\n",
       "    }\n",
       "\n",
       "    .dataframe thead th {\n",
       "        text-align: right;\n",
       "    }\n",
       "</style>\n",
       "<table border=\"1\" class=\"dataframe\">\n",
       "  <thead>\n",
       "    <tr style=\"text-align: right;\">\n",
       "      <th></th>\n",
       "      <th>Survived</th>\n",
       "      <th>Pclass</th>\n",
       "      <th>Name</th>\n",
       "      <th>Sex</th>\n",
       "      <th>Age</th>\n",
       "      <th>SibSp</th>\n",
       "      <th>Parch</th>\n",
       "      <th>Ticket</th>\n",
       "      <th>Fare</th>\n",
       "      <th>Cabin</th>\n",
       "      <th>Embarked</th>\n",
       "    </tr>\n",
       "    <tr>\n",
       "      <th>PassengerId</th>\n",
       "      <th></th>\n",
       "      <th></th>\n",
       "      <th></th>\n",
       "      <th></th>\n",
       "      <th></th>\n",
       "      <th></th>\n",
       "      <th></th>\n",
       "      <th></th>\n",
       "      <th></th>\n",
       "      <th></th>\n",
       "      <th></th>\n",
       "    </tr>\n",
       "  </thead>\n",
       "  <tbody>\n",
       "    <tr>\n",
       "      <th>1</th>\n",
       "      <td>0</td>\n",
       "      <td>3</td>\n",
       "      <td>Braund, Mr. Owen Harris</td>\n",
       "      <td>male</td>\n",
       "      <td>22.0</td>\n",
       "      <td>1</td>\n",
       "      <td>0</td>\n",
       "      <td>A/5 21171</td>\n",
       "      <td>7.2500</td>\n",
       "      <td>NaN</td>\n",
       "      <td>S</td>\n",
       "    </tr>\n",
       "    <tr>\n",
       "      <th>2</th>\n",
       "      <td>1</td>\n",
       "      <td>1</td>\n",
       "      <td>Cumings, Mrs. John Bradley (Florence Briggs Th...</td>\n",
       "      <td>female</td>\n",
       "      <td>38.0</td>\n",
       "      <td>1</td>\n",
       "      <td>0</td>\n",
       "      <td>PC 17599</td>\n",
       "      <td>71.2833</td>\n",
       "      <td>C85</td>\n",
       "      <td>C</td>\n",
       "    </tr>\n",
       "    <tr>\n",
       "      <th>3</th>\n",
       "      <td>1</td>\n",
       "      <td>3</td>\n",
       "      <td>Heikkinen, Miss. Laina</td>\n",
       "      <td>female</td>\n",
       "      <td>26.0</td>\n",
       "      <td>0</td>\n",
       "      <td>0</td>\n",
       "      <td>STON/O2. 3101282</td>\n",
       "      <td>7.9250</td>\n",
       "      <td>NaN</td>\n",
       "      <td>S</td>\n",
       "    </tr>\n",
       "    <tr>\n",
       "      <th>4</th>\n",
       "      <td>1</td>\n",
       "      <td>1</td>\n",
       "      <td>Futrelle, Mrs. Jacques Heath (Lily May Peel)</td>\n",
       "      <td>female</td>\n",
       "      <td>35.0</td>\n",
       "      <td>1</td>\n",
       "      <td>0</td>\n",
       "      <td>113803</td>\n",
       "      <td>53.1000</td>\n",
       "      <td>C123</td>\n",
       "      <td>S</td>\n",
       "    </tr>\n",
       "    <tr>\n",
       "      <th>5</th>\n",
       "      <td>0</td>\n",
       "      <td>3</td>\n",
       "      <td>Allen, Mr. William Henry</td>\n",
       "      <td>male</td>\n",
       "      <td>35.0</td>\n",
       "      <td>0</td>\n",
       "      <td>0</td>\n",
       "      <td>373450</td>\n",
       "      <td>8.0500</td>\n",
       "      <td>NaN</td>\n",
       "      <td>S</td>\n",
       "    </tr>\n",
       "  </tbody>\n",
       "</table>\n",
       "</div>"
      ],
      "text/plain": [
       "             Survived  Pclass  \\\n",
       "PassengerId                     \n",
       "1                   0       3   \n",
       "2                   1       1   \n",
       "3                   1       3   \n",
       "4                   1       1   \n",
       "5                   0       3   \n",
       "\n",
       "                                                          Name     Sex   Age  \\\n",
       "PassengerId                                                                    \n",
       "1                                      Braund, Mr. Owen Harris    male  22.0   \n",
       "2            Cumings, Mrs. John Bradley (Florence Briggs Th...  female  38.0   \n",
       "3                                       Heikkinen, Miss. Laina  female  26.0   \n",
       "4                 Futrelle, Mrs. Jacques Heath (Lily May Peel)  female  35.0   \n",
       "5                                     Allen, Mr. William Henry    male  35.0   \n",
       "\n",
       "             SibSp  Parch            Ticket     Fare Cabin Embarked  \n",
       "PassengerId                                                          \n",
       "1                1      0         A/5 21171   7.2500   NaN        S  \n",
       "2                1      0          PC 17599  71.2833   C85        C  \n",
       "3                0      0  STON/O2. 3101282   7.9250   NaN        S  \n",
       "4                1      0            113803  53.1000  C123        S  \n",
       "5                0      0            373450   8.0500   NaN        S  "
      ]
     },
     "execution_count": 3,
     "metadata": {},
     "output_type": "execute_result"
    }
   ],
   "source": [
    "df.head()"
   ]
  },
  {
   "cell_type": "code",
   "execution_count": 4,
   "metadata": {},
   "outputs": [
    {
     "name": "stdout",
     "output_type": "stream",
     "text": [
      "<class 'pandas.core.frame.DataFrame'>\n",
      "Int64Index: 891 entries, 1 to 891\n",
      "Data columns (total 11 columns):\n",
      "Survived    891 non-null int64\n",
      "Pclass      891 non-null int64\n",
      "Name        891 non-null object\n",
      "Sex         891 non-null object\n",
      "Age         714 non-null float64\n",
      "SibSp       891 non-null int64\n",
      "Parch       891 non-null int64\n",
      "Ticket      891 non-null object\n",
      "Fare        891 non-null float64\n",
      "Cabin       204 non-null object\n",
      "Embarked    889 non-null object\n",
      "dtypes: float64(2), int64(4), object(5)\n",
      "memory usage: 66.1+ KB\n"
     ]
    }
   ],
   "source": [
    "df.info()"
   ]
  },
  {
   "cell_type": "code",
   "execution_count": 5,
   "metadata": {},
   "outputs": [
    {
     "name": "stdout",
     "output_type": "stream",
     "text": [
      "Missings in column Survived == 0\n",
      "Missings in column Pclass == 0\n",
      "Missings in column Name == 0\n",
      "Missings in column Sex == 0\n",
      "Missings in column Age == 177\n",
      "Missings in column SibSp == 0\n",
      "Missings in column Parch == 0\n",
      "Missings in column Ticket == 0\n",
      "Missings in column Fare == 0\n",
      "Missings in column Cabin == 687\n",
      "Missings in column Embarked == 2\n"
     ]
    }
   ],
   "source": [
    "for column in df.columns.values:\n",
    "    print(\"Missings in column {} == {}\".format(column,df[column].isnull().sum()))"
   ]
  },
  {
   "cell_type": "markdown",
   "metadata": {},
   "source": [
    "# Formatting variables and extracting useful information"
   ]
  },
  {
   "cell_type": "code",
   "execution_count": 6,
   "metadata": {},
   "outputs": [
    {
     "name": "stdout",
     "output_type": "stream",
     "text": [
      "{nan, 'Q', 'S', 'C'}\n",
      "C == 168\n",
      "Q == 77\n",
      "S == 644\n",
      "Missing == 2\n"
     ]
    }
   ],
   "source": [
    "#Setting the missings in Embarked to the most common value\n",
    "print(set(df['Embarked']))\n",
    "Embarked_list = list(df['Embarked'])\n",
    "print('C == {}'.format(Embarked_list.count('C')))\n",
    "print('Q == {}'.format(Embarked_list.count('Q')))\n",
    "print('S == {}'.format(Embarked_list.count('S')))\n",
    "print('Missing == {}'.format(Embarked_list.count(np.nan)))\n",
    "\n",
    "df.loc[df['Embarked'].isnull(),'Embarked']='S'"
   ]
  },
  {
   "cell_type": "code",
   "execution_count": 7,
   "metadata": {},
   "outputs": [
    {
     "name": "stdout",
     "output_type": "stream",
     "text": [
      "{nan, 'A', 'D', 'B', 'F', 'E', 'G', 'T', 'C'}\n"
     ]
    }
   ],
   "source": [
    "#Taking the first letter of the Cabin Code as this seems to be a code of some sort eg floor or something\n",
    "df['Cabin Code'] = df['Cabin'].str[0]\n",
    "print(set(df['Cabin Code']))"
   ]
  },
  {
   "cell_type": "code",
   "execution_count": 8,
   "metadata": {},
   "outputs": [
    {
     "name": "stdout",
     "output_type": "stream",
     "text": [
      "{'Ms', 'Mrs', 'Other', 'Mr', 'Miss', 'Master'}\n"
     ]
    }
   ],
   "source": [
    "#Setting the prefix for the names\n",
    "#df.loc[df['Name'] in \"Mr\", 'Name Pre-fix'] = 'Mr'\n",
    "df.loc[df['Name'].str.contains('Mr'), 'Name Pre-fix'] = 'Mr'\n",
    "df.loc[df['Name'].str.contains('Mrs'), 'Name Pre-fix'] = 'Mrs'\n",
    "df.loc[df['Name'].str.contains('Miss'), 'Name Pre-fix'] = 'Miss'\n",
    "df.loc[df['Name'].str.contains('Ms'), 'Name Pre-fix'] = 'Ms'    \n",
    "df.loc[df['Name'].str.contains('Master'), 'Name Pre-fix'] = 'Master'  \n",
    "df.loc[df['Name Pre-fix'].isnull(), 'Name Pre-fix'] = 'Other'\n",
    "print(set(df['Name Pre-fix']))"
   ]
  },
  {
   "cell_type": "code",
   "execution_count": 9,
   "metadata": {
    "scrolled": true
   },
   "outputs": [],
   "source": [
    "#Setting Creating a variable which is the ticket number from the ticket information\n",
    "df['Ticket Number'] = df['Ticket']\n",
    "df.loc[df['Ticket'].str.contains(' '), 'Ticket Number'] = df['Ticket'].str.split(' ').str[1]\n",
    "#Ticket number has 2 values which are still \n",
    "df.loc[(df['Ticket Number'] == 'LINE') | (df['Ticket Number'] == 'Basle'), 'Ticket Number'] = 0\n",
    "df['Ticket Number'] = pd.to_numeric(df['Ticket Number'])\n",
    "#Setting a variable which is the first part of the ticket if there is one\n",
    "df.loc[df['Ticket'].str.contains(' '), 'Ticket Code'] = df['Ticket'].str.split(' ').str[0]"
   ]
  },
  {
   "cell_type": "code",
   "execution_count": 10,
   "metadata": {
    "scrolled": true
   },
   "outputs": [],
   "source": [
    "df.drop(['Name','Ticket','Cabin'],axis=1,inplace=True)"
   ]
  },
  {
   "cell_type": "markdown",
   "metadata": {},
   "source": [
    "# Dealing with categorical variables: "
   ]
  },
  {
   "cell_type": "code",
   "execution_count": 11,
   "metadata": {},
   "outputs": [
    {
     "name": "stdout",
     "output_type": "stream",
     "text": [
      "Missings in column Survived == 0\n",
      "Missings in column Pclass == 0\n",
      "Missings in column Sex == 0\n",
      "Missings in column Age == 177\n",
      "Missings in column SibSp == 0\n",
      "Missings in column Parch == 0\n",
      "Missings in column Fare == 0\n",
      "Missings in column Embarked == 0\n",
      "Missings in column Cabin Code == 687\n",
      "Missings in column Name Pre-fix == 0\n",
      "Missings in column Ticket Number == 0\n",
      "Missings in column Ticket Code == 665\n"
     ]
    }
   ],
   "source": [
    "for column in df.columns.values:\n",
    "    print(\"Missings in column {} == {}\".format(column,df[column].isnull().sum()))"
   ]
  },
  {
   "cell_type": "code",
   "execution_count": 12,
   "metadata": {},
   "outputs": [],
   "source": [
    "#Setting Missings in categorical variables equal to 'Missing'\n",
    "df.loc[df['Cabin Code'].isnull(), 'Cabin Code'] = 'Missing'\n",
    "df.loc[df['Ticket Code'].isnull(), 'Ticket Code'] = 'Missing'"
   ]
  },
  {
   "cell_type": "code",
   "execution_count": 13,
   "metadata": {},
   "outputs": [],
   "source": [
    "#Calculating the WOE for the different categorical variables so that they can dealt with\n",
    "def WOE(df,column,target):\n",
    "    barchart_y_values = []\n",
    "    \n",
    "    #Number of bins you want to split your distribution into\n",
    "    bins = set(df[column])\n",
    "\n",
    "    #Calculation of the total number of goods and bads\n",
    "    total_goods = df.loc[df[target] == 0].shape[0]\n",
    "    total_bads = df.loc[df[target] == 1].shape[0]\n",
    "    \n",
    "    for bin_name in bins:     \n",
    "        #Sum of non-targets in the boundary\n",
    "        non_targets = df.loc[(df[column] == bin_name) & (df[target] == 0)].shape[0]\n",
    "        non_targets_percent = (non_targets/total_goods)\n",
    "\n",
    "        #Sum of targets in the boundary\n",
    "        targets = df.loc[(df[column] == bin_name) & (df[target] == 1)].shape[0]\n",
    "        targets_percent = (targets/total_bads)\n",
    "\n",
    "        #Calculation of WOE\n",
    "        #WOE = ln(%goods/%bads)\n",
    "        if targets == 0:\n",
    "            print('\"{}\" has 0 targets and has {} non target. WOE for this variable was set to 0'.format(bin_name,non_targets))\n",
    "            WOE = 0\n",
    "        elif non_targets == 0:\n",
    "            print('\"{}\" has {} targets and has 0 non target. WOE for this variable was set to 0'.format(bin_name,targets))\n",
    "            WOE = 0\n",
    "        else:\n",
    "            WOE = math.log(non_targets_percent/targets_percent)\n",
    "\n",
    "        barchart_y_values.append(WOE)\n",
    "    print('')        \n",
    "    return barchart_y_values"
   ]
  },
  {
   "cell_type": "code",
   "execution_count": 14,
   "metadata": {},
   "outputs": [
    {
     "name": "stdout",
     "output_type": "stream",
     "text": [
      "Ticket Code:\n",
      "\n",
      "\"Fa\" has 0 targets and has 1 non target. WOE for this variable was set to 0\n",
      "\"S.W./PP\" has 1 targets and has 0 non target. WOE for this variable was set to 0\n",
      "\"S.O.C.\" has 0 targets and has 5 non target. WOE for this variable was set to 0\n",
      "\"A4.\" has 0 targets and has 1 non target. WOE for this variable was set to 0\n",
      "\"A.5.\" has 0 targets and has 2 non target. WOE for this variable was set to 0\n",
      "\"SC\" has 1 targets and has 0 non target. WOE for this variable was set to 0\n",
      "\"S.O./P.P.\" has 0 targets and has 3 non target. WOE for this variable was set to 0\n",
      "\"W/C\" has 0 targets and has 1 non target. WOE for this variable was set to 0\n",
      "\"S.O.P.\" has 0 targets and has 1 non target. WOE for this variable was set to 0\n",
      "\"S.P.\" has 0 targets and has 1 non target. WOE for this variable was set to 0\n",
      "\"A/4.\" has 0 targets and has 3 non target. WOE for this variable was set to 0\n",
      "\"F.C.\" has 0 targets and has 1 non target. WOE for this variable was set to 0\n",
      "\"W.E.P.\" has 0 targets and has 1 non target. WOE for this variable was set to 0\n",
      "\"A/S\" has 0 targets and has 1 non target. WOE for this variable was set to 0\n",
      "\"A./5.\" has 0 targets and has 2 non target. WOE for this variable was set to 0\n",
      "\"CA\" has 0 targets and has 6 non target. WOE for this variable was set to 0\n",
      "\"SCO/W\" has 0 targets and has 1 non target. WOE for this variable was set to 0\n",
      "\"SW/PP\" has 1 targets and has 0 non target. WOE for this variable was set to 0\n",
      "\"SOTON/O2\" has 0 targets and has 2 non target. WOE for this variable was set to 0\n",
      "\"C.A./SOTON\" has 0 targets and has 1 non target. WOE for this variable was set to 0\n",
      "\"SO/C\" has 1 targets and has 0 non target. WOE for this variable was set to 0\n",
      "\"S.C./A.4.\" has 0 targets and has 1 non target. WOE for this variable was set to 0\n",
      "\"A/4\" has 0 targets and has 3 non target. WOE for this variable was set to 0\n",
      "\n",
      "Bin 1 == PC                 Barchart Y value == -1.0923269128531488                Volume == 60\n",
      "Bin 2 == Fa                 Barchart Y value == 0                Volume == 1\n",
      "Bin 3 == S.W./PP                 Barchart Y value == 0                Volume == 1\n",
      "Bin 4 == S.O.C.                 Barchart Y value == 0                Volume == 5\n",
      "Bin 5 == F.C.C.                 Barchart Y value == -1.859582065566816                Volume == 5\n",
      "Bin 6 == STON/O                 Barchart Y value == -0.13681546782571238                Volume == 12\n",
      "Bin 7 == A4.                 Barchart Y value == 0                Volume == 1\n",
      "Bin 8 == A.5.                 Barchart Y value == 0                Volume == 2\n",
      "Bin 9 == PP                 Barchart Y value == -1.1664348850068706                Volume == 3\n",
      "Bin 10 == SC                 Barchart Y value == 0                Volume == 1\n",
      "Bin 11 == S.O./P.P.                 Barchart Y value == 0                Volume == 3\n",
      "Bin 12 == STON/O2.                 Barchart Y value == -0.4732877044469254                Volume == 6\n",
      "Bin 13 == W./C.                 Barchart Y value == 1.6061538372329105                Volume == 9\n",
      "Bin 14 == SOTON/O.Q.                 Barchart Y value == 1.472622444608388                Volume == 8\n",
      "Bin 15 == W/C                 Barchart Y value == 0                Volume == 1\n",
      "Bin 16 == S.O.P.                 Barchart Y value == 0                Volume == 1\n",
      "Bin 17 == S.P.                 Barchart Y value == 0                Volume == 1\n",
      "Bin 18 == A/4.                 Barchart Y value == 0                Volume == 3\n",
      "Bin 19 == P/PP                 Barchart Y value == -0.4732877044469254                Volume == 2\n",
      "Bin 20 == A/5.                 Barchart Y value == 1.3184717647811295                Volume == 7\n",
      "Bin 21 == SOTON/OQ                 Barchart Y value == 1.3184717647811295                Volume == 7\n",
      "Bin 22 == C.A.                 Barchart Y value == -0.3991797322932035                Volume == 27\n",
      "Bin 23 == C                 Barchart Y value == -0.06782259633876106                Volume == 5\n",
      "Bin 24 == SC/AH                 Barchart Y value == -1.1664348850068706                Volume == 3\n",
      "Bin 25 == F.C.                 Barchart Y value == 0                Volume == 1\n",
      "Bin 26 == W.E.P.                 Barchart Y value == 0                Volume == 1\n",
      "Bin 27 == A/S                 Barchart Y value == 0                Volume == 1\n",
      "Bin 28 == SC/PARIS                 Barchart Y value == -0.06782259633876106                Volume == 5\n",
      "Bin 29 == A./5.                 Barchart Y value == 0                Volume == 2\n",
      "Bin 30 == CA                 Barchart Y value == 0                Volume == 6\n",
      "Bin 31 == SCO/W                 Barchart Y value == 0                Volume == 1\n",
      "Bin 32 == SW/PP                 Barchart Y value == 0                Volume == 1\n",
      "Bin 33 == CA.                 Barchart Y value == 1.472622444608388                Volume == 8\n",
      "Bin 34 == A/5                 Barchart Y value == 1.723936872889294                Volume == 10\n",
      "Bin 35 == Missing                 Barchart Y value == 0.0016059100930019294                Volume == 665\n",
      "Bin 36 == S.C./PARIS                 Barchart Y value == -0.4732877044469254                Volume == 2\n",
      "Bin 37 == SC/Paris                 Barchart Y value == -0.4732877044469254                Volume == 4\n",
      "Bin 38 == SOTON/O2                 Barchart Y value == 0                Volume == 2\n",
      "Bin 39 == C.A./SOTON                 Barchart Y value == 0                Volume == 1\n",
      "Bin 40 == SO/C                 Barchart Y value == 0                Volume == 1\n",
      "Bin 41 == WE/P                 Barchart Y value == -0.4732877044469254                Volume == 2\n",
      "Bin 42 == S.C./A.4.                 Barchart Y value == 0                Volume == 1\n",
      "Bin 43 == A/4                 Barchart Y value == 0                Volume == 3\n"
     ]
    },
    {
     "data": {
      "image/png": "[encoded data removed]",
      "text/plain": [
       "<Figure size 432x288 with 1 Axes>"
      ]
     },
     "metadata": {
      "needs_background": "light"
     },
     "output_type": "display_data"
    }
   ],
   "source": [
    "column = 'Ticket Code'\n",
    "print(column + ':')\n",
    "print('')\n",
    "column_list = list(df[column])\n",
    "barchart_y_values = WOE(df=df,column=column,target='Survived')\n",
    "barchart_x_values = []\n",
    "for i in range(len(barchart_y_values)):\n",
    "    barchart_x_values.append(i+1)\n",
    "\n",
    "bins = list(set(df[column]))\n",
    "for i in range(len(bins)):\n",
    "    print('Bin {} == {}                 Barchart Y value == {}                Volume == {}'.format(i+1,bins[i],barchart_y_values[i],column_list.count(bins[i])))\n",
    "plt.bar(barchart_x_values, barchart_y_values)\n",
    "plt.show()"
   ]
  },
  {
   "cell_type": "code",
   "execution_count": 15,
   "metadata": {},
   "outputs": [],
   "source": [
    "#Dropping Ticket Code because no useful information seems to come from the data \n",
    "# and there are too many catefories to effectively deal with it\n",
    "df.drop('Ticket Code',axis=1,inplace=True)"
   ]
  },
  {
   "cell_type": "code",
   "execution_count": 16,
   "metadata": {},
   "outputs": [],
   "source": [
    "Categorical_Mapping = {'Sex' : {'male':1,'female':2},\n",
    "                       'Embarked' : {'C':1,'Q':2,'S':3},\n",
    "                       'Cabin Code' : {'D':1,'C':1,'E':1,'T':1,'G':1,'F':1,'B':1,'A':1,'Missing':0},\n",
    "                       'Name Pre-fix' : {'Mrs':0,'Miss':1,'Ms':1,'Master':2,'Other':3,'Mr':4}\n",
    "                      }"
   ]
  },
  {
   "cell_type": "code",
   "execution_count": 17,
   "metadata": {},
   "outputs": [
    {
     "name": "stdout",
     "output_type": "stream",
     "text": [
      "dict_keys(['Sex', 'Embarked', 'Cabin Code', 'Name Pre-fix'])\n"
     ]
    }
   ],
   "source": [
    "Categorical_columns = Categorical_Mapping.keys()\n",
    "print(Categorical_columns)\n",
    "df.loc[:, Categorical_columns] = df.loc[:, Categorical_columns].replace(Categorical_Mapping)"
   ]
  },
  {
   "cell_type": "code",
   "execution_count": 18,
   "metadata": {},
   "outputs": [
    {
     "data": {
      "text/html": [
       "<div>\n",
       "<style scoped>\n",
       "    .dataframe tbody tr th:only-of-type {\n",
       "        vertical-align: middle;\n",
       "    }\n",
       "\n",
       "    .dataframe tbody tr th {\n",
       "        vertical-align: top;\n",
       "    }\n",
       "\n",
       "    .dataframe thead th {\n",
       "        text-align: right;\n",
       "    }\n",
       "</style>\n",
       "<table border=\"1\" class=\"dataframe\">\n",
       "  <thead>\n",
       "    <tr style=\"text-align: right;\">\n",
       "      <th></th>\n",
       "      <th>Survived</th>\n",
       "      <th>Pclass</th>\n",
       "      <th>Sex</th>\n",
       "      <th>Age</th>\n",
       "      <th>SibSp</th>\n",
       "      <th>Parch</th>\n",
       "      <th>Fare</th>\n",
       "      <th>Embarked</th>\n",
       "      <th>Cabin Code</th>\n",
       "      <th>Name Pre-fix</th>\n",
       "      <th>Ticket Number</th>\n",
       "    </tr>\n",
       "    <tr>\n",
       "      <th>PassengerId</th>\n",
       "      <th></th>\n",
       "      <th></th>\n",
       "      <th></th>\n",
       "      <th></th>\n",
       "      <th></th>\n",
       "      <th></th>\n",
       "      <th></th>\n",
       "      <th></th>\n",
       "      <th></th>\n",
       "      <th></th>\n",
       "      <th></th>\n",
       "    </tr>\n",
       "  </thead>\n",
       "  <tbody>\n",
       "    <tr>\n",
       "      <th>1</th>\n",
       "      <td>0</td>\n",
       "      <td>3</td>\n",
       "      <td>1</td>\n",
       "      <td>22.0</td>\n",
       "      <td>1</td>\n",
       "      <td>0</td>\n",
       "      <td>7.2500</td>\n",
       "      <td>3</td>\n",
       "      <td>0</td>\n",
       "      <td>4</td>\n",
       "      <td>21171.0</td>\n",
       "    </tr>\n",
       "    <tr>\n",
       "      <th>2</th>\n",
       "      <td>1</td>\n",
       "      <td>1</td>\n",
       "      <td>2</td>\n",
       "      <td>38.0</td>\n",
       "      <td>1</td>\n",
       "      <td>0</td>\n",
       "      <td>71.2833</td>\n",
       "      <td>1</td>\n",
       "      <td>1</td>\n",
       "      <td>0</td>\n",
       "      <td>17599.0</td>\n",
       "    </tr>\n",
       "    <tr>\n",
       "      <th>3</th>\n",
       "      <td>1</td>\n",
       "      <td>3</td>\n",
       "      <td>2</td>\n",
       "      <td>26.0</td>\n",
       "      <td>0</td>\n",
       "      <td>0</td>\n",
       "      <td>7.9250</td>\n",
       "      <td>3</td>\n",
       "      <td>0</td>\n",
       "      <td>1</td>\n",
       "      <td>3101282.0</td>\n",
       "    </tr>\n",
       "    <tr>\n",
       "      <th>4</th>\n",
       "      <td>1</td>\n",
       "      <td>1</td>\n",
       "      <td>2</td>\n",
       "      <td>35.0</td>\n",
       "      <td>1</td>\n",
       "      <td>0</td>\n",
       "      <td>53.1000</td>\n",
       "      <td>3</td>\n",
       "      <td>1</td>\n",
       "      <td>0</td>\n",
       "      <td>113803.0</td>\n",
       "    </tr>\n",
       "    <tr>\n",
       "      <th>5</th>\n",
       "      <td>0</td>\n",
       "      <td>3</td>\n",
       "      <td>1</td>\n",
       "      <td>35.0</td>\n",
       "      <td>0</td>\n",
       "      <td>0</td>\n",
       "      <td>8.0500</td>\n",
       "      <td>3</td>\n",
       "      <td>0</td>\n",
       "      <td>4</td>\n",
       "      <td>373450.0</td>\n",
       "    </tr>\n",
       "    <tr>\n",
       "      <th>...</th>\n",
       "      <td>...</td>\n",
       "      <td>...</td>\n",
       "      <td>...</td>\n",
       "      <td>...</td>\n",
       "      <td>...</td>\n",
       "      <td>...</td>\n",
       "      <td>...</td>\n",
       "      <td>...</td>\n",
       "      <td>...</td>\n",
       "      <td>...</td>\n",
       "      <td>...</td>\n",
       "    </tr>\n",
       "    <tr>\n",
       "      <th>887</th>\n",
       "      <td>0</td>\n",
       "      <td>2</td>\n",
       "      <td>1</td>\n",
       "      <td>27.0</td>\n",
       "      <td>0</td>\n",
       "      <td>0</td>\n",
       "      <td>13.0000</td>\n",
       "      <td>3</td>\n",
       "      <td>0</td>\n",
       "      <td>3</td>\n",
       "      <td>211536.0</td>\n",
       "    </tr>\n",
       "    <tr>\n",
       "      <th>888</th>\n",
       "      <td>1</td>\n",
       "      <td>1</td>\n",
       "      <td>2</td>\n",
       "      <td>19.0</td>\n",
       "      <td>0</td>\n",
       "      <td>0</td>\n",
       "      <td>30.0000</td>\n",
       "      <td>3</td>\n",
       "      <td>1</td>\n",
       "      <td>1</td>\n",
       "      <td>112053.0</td>\n",
       "    </tr>\n",
       "    <tr>\n",
       "      <th>889</th>\n",
       "      <td>0</td>\n",
       "      <td>3</td>\n",
       "      <td>2</td>\n",
       "      <td>NaN</td>\n",
       "      <td>1</td>\n",
       "      <td>2</td>\n",
       "      <td>23.4500</td>\n",
       "      <td>3</td>\n",
       "      <td>0</td>\n",
       "      <td>1</td>\n",
       "      <td>6607.0</td>\n",
       "    </tr>\n",
       "    <tr>\n",
       "      <th>890</th>\n",
       "      <td>1</td>\n",
       "      <td>1</td>\n",
       "      <td>1</td>\n",
       "      <td>26.0</td>\n",
       "      <td>0</td>\n",
       "      <td>0</td>\n",
       "      <td>30.0000</td>\n",
       "      <td>1</td>\n",
       "      <td>1</td>\n",
       "      <td>4</td>\n",
       "      <td>111369.0</td>\n",
       "    </tr>\n",
       "    <tr>\n",
       "      <th>891</th>\n",
       "      <td>0</td>\n",
       "      <td>3</td>\n",
       "      <td>1</td>\n",
       "      <td>32.0</td>\n",
       "      <td>0</td>\n",
       "      <td>0</td>\n",
       "      <td>7.7500</td>\n",
       "      <td>2</td>\n",
       "      <td>0</td>\n",
       "      <td>4</td>\n",
       "      <td>370376.0</td>\n",
       "    </tr>\n",
       "  </tbody>\n",
       "</table>\n",
       "<p>891 rows × 11 columns</p>\n",
       "</div>"
      ],
      "text/plain": [
       "             Survived  Pclass  Sex   Age  SibSp  Parch     Fare  Embarked  \\\n",
       "PassengerId                                                                 \n",
       "1                   0       3    1  22.0      1      0   7.2500         3   \n",
       "2                   1       1    2  38.0      1      0  71.2833         1   \n",
       "3                   1       3    2  26.0      0      0   7.9250         3   \n",
       "4                   1       1    2  35.0      1      0  53.1000         3   \n",
       "5                   0       3    1  35.0      0      0   8.0500         3   \n",
       "...               ...     ...  ...   ...    ...    ...      ...       ...   \n",
       "887                 0       2    1  27.0      0      0  13.0000         3   \n",
       "888                 1       1    2  19.0      0      0  30.0000         3   \n",
       "889                 0       3    2   NaN      1      2  23.4500         3   \n",
       "890                 1       1    1  26.0      0      0  30.0000         1   \n",
       "891                 0       3    1  32.0      0      0   7.7500         2   \n",
       "\n",
       "             Cabin Code  Name Pre-fix  Ticket Number  \n",
       "PassengerId                                           \n",
       "1                     0             4        21171.0  \n",
       "2                     1             0        17599.0  \n",
       "3                     0             1      3101282.0  \n",
       "4                     1             0       113803.0  \n",
       "5                     0             4       373450.0  \n",
       "...                 ...           ...            ...  \n",
       "887                   0             3       211536.0  \n",
       "888                   1             1       112053.0  \n",
       "889                   0             1         6607.0  \n",
       "890                   1             4       111369.0  \n",
       "891                   0             4       370376.0  \n",
       "\n",
       "[891 rows x 11 columns]"
      ]
     },
     "execution_count": 18,
     "metadata": {},
     "output_type": "execute_result"
    }
   ],
   "source": [
    "df"
   ]
  },
  {
   "cell_type": "code",
   "execution_count": 19,
   "metadata": {},
   "outputs": [
    {
     "name": "stdout",
     "output_type": "stream",
     "text": [
      "Column : Age\n",
      "Boundary 1 == 14.0\n",
      "Boundary 2 == 19.0\n",
      "Boundary 3 == 22.0\n",
      "Boundary 4 == 25.0\n",
      "Boundary 5 == 28.0\n",
      "Boundary 6 == 31.80000000000001\n",
      "Boundary 7 == 36.0\n",
      "Boundary 8 == 41.0\n",
      "Boundary 9 == 50.0\n",
      "Boundary 10 == 80.0\n"
     ]
    },
    {
     "data": {
      "image/png": "[encoded data removed]",
      "text/plain": [
       "<Figure size 432x288 with 1 Axes>"
      ]
     },
     "metadata": {
      "needs_background": "light"
     },
     "output_type": "display_data"
    }
   ],
   "source": [
    "column = 'Age'\n",
    "print(\"Column : \" + column)\n",
    "column_list = list(df['Age'])\n",
    "column_list = [x for x in column_list if str(x) != 'nan']\n",
    "column_volume = []\n",
    "boundary = []\n",
    "\n",
    "#Number of bins you want to split your distribution into\n",
    "number_of_bins = 10\n",
    "\n",
    "#Break the column up into equal parts of 10% intervals\n",
    "lower_boundary = df[column].min()\n",
    "for bin_number in range(number_of_bins):\n",
    "\n",
    "    #Calculation of the boundaries\n",
    "    upper_boundary = np.percentile(column_list, (bin_number+1)*(100/number_of_bins))\n",
    "\n",
    "    column_volume.append(df.loc[(df[column] > lower_boundary) & (df[column] < upper_boundary)].shape[0])\n",
    "\n",
    "    boundary.append(upper_boundary)\n",
    "    \n",
    "    lower_boundary = upper_boundary\n",
    "    \n",
    "X_barchart_value = []\n",
    "for i in range(len(column_volume)):\n",
    "    X_barchart_value.append(i+1)\n",
    "    print(\"Boundary {} == {}\".format(i+1,boundary[i]))\n",
    "plt.bar(X_barchart_value, column_volume)\n",
    "plt.show()"
   ]
  },
  {
   "cell_type": "code",
   "execution_count": 20,
   "metadata": {},
   "outputs": [],
   "source": [
    "#Before the removal of nans in age, a flag for missing\n",
    "Age_flag_list = list(df['Age'])\n",
    "\n",
    "i=0\n",
    "for value in Age_flag_list:\n",
    "    if str(value) != 'nan':\n",
    "        Age_flag_list[i] = 1\n",
    "    else:\n",
    "        Age_flag_list[i] = 0\n",
    "    i=i+1\n",
    "    \n",
    "df['Age Missing Flag'] = Age_flag_list"
   ]
  },
  {
   "cell_type": "code",
   "execution_count": 21,
   "metadata": {},
   "outputs": [
    {
     "name": "stdout",
     "output_type": "stream",
     "text": [
      "29.69911764705882\n",
      "28.0\n"
     ]
    }
   ],
   "source": [
    "print(df['Age'].mean())\n",
    "print(df['Age'].median())\n",
    "df['Age'].fillna(df['Age'].median(),inplace=True)"
   ]
  },
  {
   "cell_type": "markdown",
   "metadata": {},
   "source": [
    "## Model Build"
   ]
  },
  {
   "cell_type": "code",
   "execution_count": 22,
   "metadata": {},
   "outputs": [],
   "source": [
    "def data_split(df, target):\n",
    "    Y = df.pop(target)\n",
    "    X = df\n",
    "    X_train,X_test,Y_train,Y_test = train_test_split(X,Y,test_size=0.3, random_state=999)\n",
    "\n",
    "    print(\"--------------------------------------------------------\")\n",
    "    print(\"-------------------\" + target + \"------------------\")\n",
    "    print(\"--------------------------------------------------------\")\n",
    "    print(\"Training data length:\" + str(len(Y_train)))\n",
    "    print(\"Test data length:\" + str(len(Y_test)))\n",
    "    print(\"Ratio: \" + str(len(Y_test) / (len(Y_test)+len(Y_train))))\n",
    "\n",
    "    total_target_statements = sum(Y_test) + sum(Y_train)\n",
    "    print(\"Total target Statements = \" + str(total_target_statements))\n",
    "    print(\"Train target Statements = \" + str(sum(Y_train)))\n",
    "    print(\"Test target Statements = \" + str(sum(Y_test)))\n",
    "    print(\"Ratio: \" + str(sum(Y_test) / (sum(Y_test)+sum(Y_train))))\n",
    "    return X_train,X_test,Y_train,Y_test"
   ]
  },
  {
   "cell_type": "code",
   "execution_count": 23,
   "metadata": {},
   "outputs": [],
   "source": [
    "def plot_roc_curve(y_true, score_names):\n",
    "    #compute gini for each model\n",
    "    for score, label in score_names:\t\n",
    "        fpr,tpr, _ = roc_curve(y_true,y_score=score,drop_intermediate=False)\n",
    "        AUC = roc_auc_score(y_true,score)\n",
    "        gini = 2*AUC - 1\n",
    "        label = \"gini = %.5f %s\" % (gini, label)\n",
    "        print(gini)\n",
    "    return fpr,tpr"
   ]
  },
  {
   "cell_type": "code",
   "execution_count": 24,
   "metadata": {},
   "outputs": [],
   "source": [
    "def logistical_regression_model(X_train,X_test,Y_train,Y_test):\n",
    "    #Training the logistical regression models and testing them \n",
    "    logreg = LogisticRegression(random_state = 999)\n",
    "    logreg.fit(X_train, Y_train)\n",
    "\n",
    "    train_probs = logreg.predict_proba(X_train)[:,1]\n",
    "    test_probs = logreg.predict_proba(X_test)[:,1]\n",
    "\n",
    "    #Both of the train and test ginis are the same so only one of each will be plotted\n",
    "    FPR_train,TPR_train = plot_roc_curve(Y_train,[(train_probs,'Test: Logistic Regression Model: ')])\n",
    "    FPR_test,TPR_test = plot_roc_curve(Y_test,[(test_probs,'Test: Logistic Regression Model: ')])\n",
    "\n",
    "    return FPR_train, TPR_train, FPR_test, TPR_test"
   ]
  },
  {
   "cell_type": "code",
   "execution_count": 25,
   "metadata": {},
   "outputs": [],
   "source": [
    "def random_forest_model(X_train,X_test,Y_train,Y_test):\n",
    "    #Random Forest hyper perameter chosen by the grid search in program 09a\n",
    "    rf = RandomForestClassifier(n_estimators=200,criterion='entropy',max_depth=22,max_features='sqrt',min_samples_leaf=6,random_state=999)\n",
    "    rf.fit(X_train, Y_train)\n",
    "\n",
    "    train_probs = rf.predict_proba(X_train)[:,1]\n",
    "    test_probs = rf.predict_proba(X_test)[:,1]\n",
    "\n",
    "    #Both of the train and test ginis are the same so only one of each will be plotted\n",
    "    FPR_train,TPR_train = plot_roc_curve(Y_train,[(train_probs,'Test: Random Forest Model: ')])\n",
    "    FPR_test,TPR_test = plot_roc_curve(Y_test,[(test_probs,'Test: Random Forest Model: ')])\n",
    "    \n",
    "    return FPR_train, TPR_train, FPR_test, TPR_test"
   ]
  },
  {
   "cell_type": "code",
   "execution_count": 26,
   "metadata": {},
   "outputs": [
    {
     "name": "stdout",
     "output_type": "stream",
     "text": [
      "--------------------------------------------------------\n",
      "-------------------Survived------------------\n",
      "--------------------------------------------------------\n",
      "Training data length:623\n",
      "Test data length:268\n",
      "Ratio: 0.30078563411896747\n",
      "Total target Statements = 342\n",
      "Train target Statements = 245\n",
      "Test target Statements = 97\n",
      "Ratio: 0.28362573099415206\n",
      "0.42939207429003323\n",
      "0.39181286549707606\n"
     ]
    },
    {
     "name": "stderr",
     "output_type": "stream",
     "text": [
      "C:\\Users\\Spencer\\AppData\\Local\\Programs\\Python\\Python37-32\\lib\\site-packages\\sklearn\\linear_model\\logistic.py:432: FutureWarning: Default solver will be changed to 'lbfgs' in 0.22. Specify a solver to silence this warning.\n",
      "  FutureWarning)\n"
     ]
    },
    {
     "name": "stdout",
     "output_type": "stream",
     "text": [
      "0.9029046539250623\n",
      "0.7233375535057576\n"
     ]
    }
   ],
   "source": [
    "X_train,X_test,Y_train,Y_test = data_split(df,'Survived')\n",
    "FPR_train_LR, TPR_train_LR, FPR_test_LR, TPR_test_LR = logistical_regression_model(X_train,X_test,Y_train,Y_test)\n",
    "FPR_train_RF, TPR_train_RF, FPR_test_RF, TPR_test_RF = random_forest_model(X_train,X_test,Y_train,Y_test)"
   ]
  },
  {
   "cell_type": "code",
   "execution_count": 27,
   "metadata": {},
   "outputs": [
    {
     "data": {
      "image/png": "[encoded data removed]",
      "text/plain": [
       "<Figure size 792x792 with 1 Axes>"
      ]
     },
     "metadata": {
      "needs_background": "light"
     },
     "output_type": "display_data"
    }
   ],
   "source": [
    "plt.figure(figsize=(11,11))\n",
    "plt.plot(FPR_train_LR,TPR_train_LR,label=\"LR_train\")\n",
    "plt.plot(FPR_test_LR,TPR_test_LR,label=\"LR_test\")\n",
    "plt.plot(FPR_train_RF,TPR_train_RF,label=\"RF_train\")\n",
    "plt.plot(FPR_test_RF,TPR_test_RF,label=\"RF_test\")\n",
    "plt.plot((0,1),(0,1),label=\"Straight line\")\n",
    "\n",
    "plt.xlabel('FPR')\n",
    "plt.ylabel('TPR')\n",
    "plt.legend()\n",
    "plt.show()"
   ]
  }
 ],
 "metadata": {
  "kernelspec": {
   "display_name": "Python 3",
   "language": "python",
   "name": "python3"
  },
  "language_info": {
   "codemirror_mode": {
    "name": "ipython",
    "version": 3
   },
   "file_extension": ".py",
   "mimetype": "text/x-python",
   "name": "python",
   "nbconvert_exporter": "python",
   "pygments_lexer": "ipython3",
   "version": "3.7.3"
  }
 },
 "nbformat": 4,
 "nbformat_minor": 4
}
